{
 "cells": [
  {
   "cell_type": "markdown",
   "metadata": {},
   "source": [
    "একটি মান টাইপ করা এবং ঐ মান থেকে ১ থেকে n পর্যন্ত সংখ্যার সমষ্টি প্রিন্ট করা।\n"
   ]
  },
  {
   "cell_type": "code",
   "execution_count": null,
   "metadata": {},
   "outputs": [],
   "source": [
    "n = 10\n",
    "for i in range(0, n+1, 1):\n",
    "  print(i,end=\" \")"
   ]
  },
  {
   "cell_type": "markdown",
   "metadata": {},
   "source": [
    "প্রথম ১০টি বিজোড় সংখ্যা প্রিন্ট করা\n"
   ]
  },
  {
   "cell_type": "code",
   "execution_count": null,
   "metadata": {},
   "outputs": [],
   "source": [
    "num = 10\n",
    "for i in range(num):\n",
    "  if i % 2 != 0:\n",
    "    print(i,end=\",\")"
   ]
  },
  {
   "cell_type": "markdown",
   "metadata": {},
   "source": [
    "একটি অ্যারে ইনপুট নাও এবং সবটির এভারেজ প্রিন্ট করো।\n"
   ]
  },
  {
   "cell_type": "code",
   "execution_count": null,
   "metadata": {},
   "outputs": [],
   "source": [
    "avgArr=list(map(int,input(\"Enter a numbers: \").split()))\n",
    "sz = len(avgArr)\n",
    "print(avgArr)\n",
    "sum = 0\n",
    "for i in avgArr:\n",
    "   sum +=i\n",
    " \n",
    "avg = sum/sz\n",
    "print(sum)  "
   ]
  }
 ],
 "metadata": {
  "language_info": {
   "name": "python"
  }
 },
 "nbformat": 4,
 "nbformat_minor": 2
}
